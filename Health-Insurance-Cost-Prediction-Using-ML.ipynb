{
 "cells": [
  {
   "cell_type": "code",
   "execution_count": 2,
   "id": "cc4da5d3",
   "metadata": {
    "execution": {
     "iopub.execute_input": "2021-10-31T15:16:42.074248Z",
     "iopub.status.busy": "2021-10-31T15:16:42.072986Z",
     "iopub.status.idle": "2021-10-31T15:16:42.083342Z",
     "shell.execute_reply": "2021-10-31T15:16:42.083911Z",
     "shell.execute_reply.started": "2021-10-31T15:15:14.510908Z"
    },
    "papermill": {
     "duration": 0.049785,
     "end_time": "2021-10-31T15:16:42.084373",
     "exception": false,
     "start_time": "2021-10-31T15:16:42.034588",
     "status": "completed"
    },
    "tags": []
   },
   "outputs": [],
   "source": [
    "import pandas as pd"
   ]
  },
  {
   "cell_type": "code",
   "execution_count": 3,
   "id": "3b96835b",
   "metadata": {
    "execution": {
     "iopub.execute_input": "2021-10-31T15:16:42.155333Z",
     "iopub.status.busy": "2021-10-31T15:16:42.154708Z",
     "iopub.status.idle": "2021-10-31T15:16:42.178027Z",
     "shell.execute_reply": "2021-10-31T15:16:42.178671Z",
     "shell.execute_reply.started": "2021-10-31T15:15:14.543545Z"
    },
    "papermill": {
     "duration": 0.059766,
     "end_time": "2021-10-31T15:16:42.178897",
     "exception": false,
     "start_time": "2021-10-31T15:16:42.119131",
     "status": "completed"
    },
    "tags": []
   },
   "outputs": [],
   "source": [
    "data = pd.read_csv(\"Insurance.csv\")\n"
   ]
  },
  {
   "cell_type": "markdown",
   "id": "4442ca1b",
   "metadata": {
    "papermill": {
     "duration": 0.032168,
     "end_time": "2021-10-31T15:16:42.244728",
     "exception": false,
     "start_time": "2021-10-31T15:16:42.212560",
     "status": "completed"
    },
    "tags": []
   },
   "source": [
    "### 1. Display Top 5 Rows of The Dataset"
   ]
  },
  {
   "cell_type": "code",
   "execution_count": 4,
   "id": "4c97ace2",
   "metadata": {
    "execution": {
     "iopub.execute_input": "2021-10-31T15:16:42.312619Z",
     "iopub.status.busy": "2021-10-31T15:16:42.311951Z",
     "iopub.status.idle": "2021-10-31T15:16:42.333062Z",
     "shell.execute_reply": "2021-10-31T15:16:42.333600Z",
     "shell.execute_reply.started": "2021-10-31T15:15:14.596465Z"
    },
    "papermill": {
     "duration": 0.056772,
     "end_time": "2021-10-31T15:16:42.333811",
     "exception": false,
     "start_time": "2021-10-31T15:16:42.277039",
     "status": "completed"
    },
    "tags": []
   },
   "outputs": [
    {
     "data": {
      "text/html": [
       "<div>\n",
       "<style scoped>\n",
       "    .dataframe tbody tr th:only-of-type {\n",
       "        vertical-align: middle;\n",
       "    }\n",
       "\n",
       "    .dataframe tbody tr th {\n",
       "        vertical-align: top;\n",
       "    }\n",
       "\n",
       "    .dataframe thead th {\n",
       "        text-align: right;\n",
       "    }\n",
       "</style>\n",
       "<table border=\"1\" class=\"dataframe\">\n",
       "  <thead>\n",
       "    <tr style=\"text-align: right;\">\n",
       "      <th></th>\n",
       "      <th>age</th>\n",
       "      <th>sex</th>\n",
       "      <th>bmi</th>\n",
       "      <th>children</th>\n",
       "      <th>smoker</th>\n",
       "      <th>region</th>\n",
       "      <th>charges</th>\n",
       "    </tr>\n",
       "  </thead>\n",
       "  <tbody>\n",
       "    <tr>\n",
       "      <th>0</th>\n",
       "      <td>19</td>\n",
       "      <td>female</td>\n",
       "      <td>27.900</td>\n",
       "      <td>0</td>\n",
       "      <td>yes</td>\n",
       "      <td>southwest</td>\n",
       "      <td>16884.92400</td>\n",
       "    </tr>\n",
       "    <tr>\n",
       "      <th>1</th>\n",
       "      <td>18</td>\n",
       "      <td>male</td>\n",
       "      <td>33.770</td>\n",
       "      <td>1</td>\n",
       "      <td>no</td>\n",
       "      <td>southeast</td>\n",
       "      <td>1725.55230</td>\n",
       "    </tr>\n",
       "    <tr>\n",
       "      <th>2</th>\n",
       "      <td>28</td>\n",
       "      <td>male</td>\n",
       "      <td>33.000</td>\n",
       "      <td>3</td>\n",
       "      <td>no</td>\n",
       "      <td>southeast</td>\n",
       "      <td>4449.46200</td>\n",
       "    </tr>\n",
       "    <tr>\n",
       "      <th>3</th>\n",
       "      <td>33</td>\n",
       "      <td>male</td>\n",
       "      <td>22.705</td>\n",
       "      <td>0</td>\n",
       "      <td>no</td>\n",
       "      <td>northwest</td>\n",
       "      <td>21984.47061</td>\n",
       "    </tr>\n",
       "    <tr>\n",
       "      <th>4</th>\n",
       "      <td>32</td>\n",
       "      <td>male</td>\n",
       "      <td>28.880</td>\n",
       "      <td>0</td>\n",
       "      <td>no</td>\n",
       "      <td>northwest</td>\n",
       "      <td>3866.85520</td>\n",
       "    </tr>\n",
       "  </tbody>\n",
       "</table>\n",
       "</div>"
      ],
      "text/plain": [
       "   age     sex     bmi  children smoker     region      charges\n",
       "0   19  female  27.900         0    yes  southwest  16884.92400\n",
       "1   18    male  33.770         1     no  southeast   1725.55230\n",
       "2   28    male  33.000         3     no  southeast   4449.46200\n",
       "3   33    male  22.705         0     no  northwest  21984.47061\n",
       "4   32    male  28.880         0     no  northwest   3866.85520"
      ]
     },
     "execution_count": 4,
     "metadata": {},
     "output_type": "execute_result"
    }
   ],
   "source": [
    "data.head()"
   ]
  },
  {
   "cell_type": "markdown",
   "id": "a009c4a2",
   "metadata": {
    "papermill": {
     "duration": 0.03421,
     "end_time": "2021-10-31T15:16:42.550780",
     "exception": false,
     "start_time": "2021-10-31T15:16:42.516570",
     "status": "completed"
    },
    "tags": []
   },
   "source": [
    "### 2. Finding Number of Rows and Columns"
   ]
  },
  {
   "cell_type": "code",
   "execution_count": 5,
   "id": "35e7375a",
   "metadata": {
    "execution": {
     "iopub.execute_input": "2021-10-31T15:16:42.621135Z",
     "iopub.status.busy": "2021-10-31T15:16:42.620422Z",
     "iopub.status.idle": "2021-10-31T15:16:42.626023Z",
     "shell.execute_reply": "2021-10-31T15:16:42.625399Z",
     "shell.execute_reply.started": "2021-10-31T15:15:14.636624Z"
    },
    "papermill": {
     "duration": 0.04193,
     "end_time": "2021-10-31T15:16:42.626188",
     "exception": false,
     "start_time": "2021-10-31T15:16:42.584258",
     "status": "completed"
    },
    "tags": []
   },
   "outputs": [
    {
     "data": {
      "text/plain": [
       "(1338, 7)"
      ]
     },
     "execution_count": 5,
     "metadata": {},
     "output_type": "execute_result"
    }
   ],
   "source": [
    "data.shape"
   ]
  },
  {
   "cell_type": "code",
   "execution_count": 6,
   "id": "ad4f3d2b",
   "metadata": {
    "execution": {
     "iopub.execute_input": "2021-10-31T15:16:42.698361Z",
     "iopub.status.busy": "2021-10-31T15:16:42.697718Z",
     "iopub.status.idle": "2021-10-31T15:16:42.702545Z",
     "shell.execute_reply": "2021-10-31T15:16:42.703182Z",
     "shell.execute_reply.started": "2021-10-31T15:15:14.645728Z"
    },
    "papermill": {
     "duration": 0.043596,
     "end_time": "2021-10-31T15:16:42.703371",
     "exception": false,
     "start_time": "2021-10-31T15:16:42.659775",
     "status": "completed"
    },
    "tags": []
   },
   "outputs": [
    {
     "name": "stdout",
     "output_type": "stream",
     "text": [
      "Number of Rows:  1338\n",
      "Number of Columns:  7\n"
     ]
    }
   ],
   "source": [
    "print(\"Number of Rows: \",data.shape[0])\n",
    "print(\"Number of Columns: \",data.shape[1])"
   ]
  },
  {
   "cell_type": "markdown",
   "id": "2cd9d1c0",
   "metadata": {
    "papermill": {
     "duration": 0.03344,
     "end_time": "2021-10-31T15:16:42.770444",
     "exception": false,
     "start_time": "2021-10-31T15:16:42.737004",
     "status": "completed"
    },
    "tags": []
   },
   "source": [
    "### 3. Get Information about dataset Like datatypes of each column and Memory Requirement"
   ]
  },
  {
   "cell_type": "code",
   "execution_count": 7,
   "id": "acd5837c",
   "metadata": {
    "execution": {
     "iopub.execute_input": "2021-10-31T15:16:42.841315Z",
     "iopub.status.busy": "2021-10-31T15:16:42.840704Z",
     "iopub.status.idle": "2021-10-31T15:16:42.868961Z",
     "shell.execute_reply": "2021-10-31T15:16:42.869847Z",
     "shell.execute_reply.started": "2021-10-31T15:15:14.676109Z"
    },
    "papermill": {
     "duration": 0.065918,
     "end_time": "2021-10-31T15:16:42.870151",
     "exception": false,
     "start_time": "2021-10-31T15:16:42.804233",
     "status": "completed"
    },
    "tags": []
   },
   "outputs": [
    {
     "name": "stdout",
     "output_type": "stream",
     "text": [
      "<class 'pandas.core.frame.DataFrame'>\n",
      "RangeIndex: 1338 entries, 0 to 1337\n",
      "Data columns (total 7 columns):\n",
      " #   Column    Non-Null Count  Dtype  \n",
      "---  ------    --------------  -----  \n",
      " 0   age       1338 non-null   int64  \n",
      " 1   sex       1338 non-null   object \n",
      " 2   bmi       1338 non-null   float64\n",
      " 3   children  1338 non-null   int64  \n",
      " 4   smoker    1338 non-null   object \n",
      " 5   region    1338 non-null   object \n",
      " 6   charges   1338 non-null   float64\n",
      "dtypes: float64(2), int64(2), object(3)\n",
      "memory usage: 73.3+ KB\n"
     ]
    }
   ],
   "source": [
    "data.info()"
   ]
  },
  {
   "cell_type": "markdown",
   "id": "98db3493",
   "metadata": {
    "papermill": {
     "duration": 0.038728,
     "end_time": "2021-10-31T15:16:42.953514",
     "exception": false,
     "start_time": "2021-10-31T15:16:42.914786",
     "status": "completed"
    },
    "tags": []
   },
   "source": [
    "### 4. Check for Null Values in the dataset"
   ]
  },
  {
   "cell_type": "code",
   "execution_count": 8,
   "id": "44f1e755",
   "metadata": {
    "execution": {
     "iopub.execute_input": "2021-10-31T15:16:43.039890Z",
     "iopub.status.busy": "2021-10-31T15:16:43.039062Z",
     "iopub.status.idle": "2021-10-31T15:16:43.049382Z",
     "shell.execute_reply": "2021-10-31T15:16:43.050091Z",
     "shell.execute_reply.started": "2021-10-31T15:15:14.702608Z"
    },
    "papermill": {
     "duration": 0.054903,
     "end_time": "2021-10-31T15:16:43.050302",
     "exception": false,
     "start_time": "2021-10-31T15:16:42.995399",
     "status": "completed"
    },
    "tags": []
   },
   "outputs": [
    {
     "data": {
      "text/plain": [
       "age         0\n",
       "sex         0\n",
       "bmi         0\n",
       "children    0\n",
       "smoker      0\n",
       "region      0\n",
       "charges     0\n",
       "dtype: int64"
      ]
     },
     "execution_count": 8,
     "metadata": {},
     "output_type": "execute_result"
    }
   ],
   "source": [
    "data.isnull().sum()"
   ]
  },
  {
   "cell_type": "markdown",
   "id": "934c6ace",
   "metadata": {
    "papermill": {
     "duration": 0.035608,
     "end_time": "2021-10-31T15:16:43.133704",
     "exception": false,
     "start_time": "2021-10-31T15:16:43.098096",
     "status": "completed"
    },
    "tags": []
   },
   "source": [
    "### 5. Get all statistics about the dataset"
   ]
  },
  {
   "cell_type": "code",
   "execution_count": 9,
   "id": "dfa080e5",
   "metadata": {
    "execution": {
     "iopub.execute_input": "2021-10-31T15:16:43.216447Z",
     "iopub.status.busy": "2021-10-31T15:16:43.215413Z",
     "iopub.status.idle": "2021-10-31T15:16:43.253190Z",
     "shell.execute_reply": "2021-10-31T15:16:43.253998Z",
     "shell.execute_reply.started": "2021-10-31T15:15:14.717050Z"
    },
    "papermill": {
     "duration": 0.084545,
     "end_time": "2021-10-31T15:16:43.254266",
     "exception": false,
     "start_time": "2021-10-31T15:16:43.169721",
     "status": "completed"
    },
    "tags": []
   },
   "outputs": [
    {
     "data": {
      "text/html": [
       "<div>\n",
       "<style scoped>\n",
       "    .dataframe tbody tr th:only-of-type {\n",
       "        vertical-align: middle;\n",
       "    }\n",
       "\n",
       "    .dataframe tbody tr th {\n",
       "        vertical-align: top;\n",
       "    }\n",
       "\n",
       "    .dataframe thead th {\n",
       "        text-align: right;\n",
       "    }\n",
       "</style>\n",
       "<table border=\"1\" class=\"dataframe\">\n",
       "  <thead>\n",
       "    <tr style=\"text-align: right;\">\n",
       "      <th></th>\n",
       "      <th>age</th>\n",
       "      <th>sex</th>\n",
       "      <th>bmi</th>\n",
       "      <th>children</th>\n",
       "      <th>smoker</th>\n",
       "      <th>region</th>\n",
       "      <th>charges</th>\n",
       "    </tr>\n",
       "  </thead>\n",
       "  <tbody>\n",
       "    <tr>\n",
       "      <th>count</th>\n",
       "      <td>1338.000000</td>\n",
       "      <td>1338</td>\n",
       "      <td>1338.000000</td>\n",
       "      <td>1338.000000</td>\n",
       "      <td>1338</td>\n",
       "      <td>1338</td>\n",
       "      <td>1338.000000</td>\n",
       "    </tr>\n",
       "    <tr>\n",
       "      <th>unique</th>\n",
       "      <td>NaN</td>\n",
       "      <td>2</td>\n",
       "      <td>NaN</td>\n",
       "      <td>NaN</td>\n",
       "      <td>2</td>\n",
       "      <td>4</td>\n",
       "      <td>NaN</td>\n",
       "    </tr>\n",
       "    <tr>\n",
       "      <th>top</th>\n",
       "      <td>NaN</td>\n",
       "      <td>male</td>\n",
       "      <td>NaN</td>\n",
       "      <td>NaN</td>\n",
       "      <td>no</td>\n",
       "      <td>southeast</td>\n",
       "      <td>NaN</td>\n",
       "    </tr>\n",
       "    <tr>\n",
       "      <th>freq</th>\n",
       "      <td>NaN</td>\n",
       "      <td>676</td>\n",
       "      <td>NaN</td>\n",
       "      <td>NaN</td>\n",
       "      <td>1064</td>\n",
       "      <td>364</td>\n",
       "      <td>NaN</td>\n",
       "    </tr>\n",
       "    <tr>\n",
       "      <th>mean</th>\n",
       "      <td>39.207025</td>\n",
       "      <td>NaN</td>\n",
       "      <td>30.663397</td>\n",
       "      <td>1.094918</td>\n",
       "      <td>NaN</td>\n",
       "      <td>NaN</td>\n",
       "      <td>13270.422265</td>\n",
       "    </tr>\n",
       "    <tr>\n",
       "      <th>std</th>\n",
       "      <td>14.049960</td>\n",
       "      <td>NaN</td>\n",
       "      <td>6.098187</td>\n",
       "      <td>1.205493</td>\n",
       "      <td>NaN</td>\n",
       "      <td>NaN</td>\n",
       "      <td>12110.011237</td>\n",
       "    </tr>\n",
       "    <tr>\n",
       "      <th>min</th>\n",
       "      <td>18.000000</td>\n",
       "      <td>NaN</td>\n",
       "      <td>15.960000</td>\n",
       "      <td>0.000000</td>\n",
       "      <td>NaN</td>\n",
       "      <td>NaN</td>\n",
       "      <td>1121.873900</td>\n",
       "    </tr>\n",
       "    <tr>\n",
       "      <th>25%</th>\n",
       "      <td>27.000000</td>\n",
       "      <td>NaN</td>\n",
       "      <td>26.296250</td>\n",
       "      <td>0.000000</td>\n",
       "      <td>NaN</td>\n",
       "      <td>NaN</td>\n",
       "      <td>4740.287150</td>\n",
       "    </tr>\n",
       "    <tr>\n",
       "      <th>50%</th>\n",
       "      <td>39.000000</td>\n",
       "      <td>NaN</td>\n",
       "      <td>30.400000</td>\n",
       "      <td>1.000000</td>\n",
       "      <td>NaN</td>\n",
       "      <td>NaN</td>\n",
       "      <td>9382.033000</td>\n",
       "    </tr>\n",
       "    <tr>\n",
       "      <th>75%</th>\n",
       "      <td>51.000000</td>\n",
       "      <td>NaN</td>\n",
       "      <td>34.693750</td>\n",
       "      <td>2.000000</td>\n",
       "      <td>NaN</td>\n",
       "      <td>NaN</td>\n",
       "      <td>16639.912515</td>\n",
       "    </tr>\n",
       "    <tr>\n",
       "      <th>max</th>\n",
       "      <td>64.000000</td>\n",
       "      <td>NaN</td>\n",
       "      <td>53.130000</td>\n",
       "      <td>5.000000</td>\n",
       "      <td>NaN</td>\n",
       "      <td>NaN</td>\n",
       "      <td>63770.428010</td>\n",
       "    </tr>\n",
       "  </tbody>\n",
       "</table>\n",
       "</div>"
      ],
      "text/plain": [
       "                age   sex          bmi     children smoker     region  \\\n",
       "count   1338.000000  1338  1338.000000  1338.000000   1338       1338   \n",
       "unique          NaN     2          NaN          NaN      2          4   \n",
       "top             NaN  male          NaN          NaN     no  southeast   \n",
       "freq            NaN   676          NaN          NaN   1064        364   \n",
       "mean      39.207025   NaN    30.663397     1.094918    NaN        NaN   \n",
       "std       14.049960   NaN     6.098187     1.205493    NaN        NaN   \n",
       "min       18.000000   NaN    15.960000     0.000000    NaN        NaN   \n",
       "25%       27.000000   NaN    26.296250     0.000000    NaN        NaN   \n",
       "50%       39.000000   NaN    30.400000     1.000000    NaN        NaN   \n",
       "75%       51.000000   NaN    34.693750     2.000000    NaN        NaN   \n",
       "max       64.000000   NaN    53.130000     5.000000    NaN        NaN   \n",
       "\n",
       "             charges  \n",
       "count    1338.000000  \n",
       "unique           NaN  \n",
       "top              NaN  \n",
       "freq             NaN  \n",
       "mean    13270.422265  \n",
       "std     12110.011237  \n",
       "min      1121.873900  \n",
       "25%      4740.287150  \n",
       "50%      9382.033000  \n",
       "75%     16639.912515  \n",
       "max     63770.428010  "
      ]
     },
     "execution_count": 9,
     "metadata": {},
     "output_type": "execute_result"
    }
   ],
   "source": [
    "data.describe(include='all')"
   ]
  },
  {
   "cell_type": "markdown",
   "id": "61149265",
   "metadata": {
    "papermill": {
     "duration": 0.035312,
     "end_time": "2021-10-31T15:16:43.329573",
     "exception": false,
     "start_time": "2021-10-31T15:16:43.294261",
     "status": "completed"
    },
    "tags": []
   },
   "source": [
    "### 6. Covert Columns from string ['sex' ,'smoker','region' ] to numerical values "
   ]
  },
  {
   "cell_type": "code",
   "execution_count": 10,
   "id": "416d0533",
   "metadata": {
    "execution": {
     "iopub.execute_input": "2021-10-31T15:16:43.405623Z",
     "iopub.status.busy": "2021-10-31T15:16:43.404950Z",
     "iopub.status.idle": "2021-10-31T15:16:43.419095Z",
     "shell.execute_reply": "2021-10-31T15:16:43.418494Z",
     "shell.execute_reply.started": "2021-10-31T15:15:14.751392Z"
    },
    "papermill": {
     "duration": 0.054144,
     "end_time": "2021-10-31T15:16:43.419233",
     "exception": false,
     "start_time": "2021-10-31T15:16:43.365089",
     "status": "completed"
    },
    "tags": []
   },
   "outputs": [],
   "source": [
    "data['sex'].unique()\n",
    "data['sex']=data['sex'].map({'female':0,'male':1})\n",
    "data['smoker']=data['smoker'].map({'yes':1,'no':0})\n",
    "data['region']=data['region'].map({'southwest':1,'southeast':2,\n",
    "                   'northwest':3,'northeast':4})"
   ]
  },
  {
   "cell_type": "code",
   "execution_count": 11,
   "id": "2b689f72",
   "metadata": {
    "execution": {
     "iopub.execute_input": "2021-10-31T15:16:43.494075Z",
     "iopub.status.busy": "2021-10-31T15:16:43.493102Z",
     "iopub.status.idle": "2021-10-31T15:16:43.506190Z",
     "shell.execute_reply": "2021-10-31T15:16:43.505632Z",
     "shell.execute_reply.started": "2021-10-31T15:15:14.765045Z"
    },
    "papermill": {
     "duration": 0.051387,
     "end_time": "2021-10-31T15:16:43.506328",
     "exception": false,
     "start_time": "2021-10-31T15:16:43.454941",
     "status": "completed"
    },
    "tags": []
   },
   "outputs": [
    {
     "data": {
      "text/html": [
       "<div>\n",
       "<style scoped>\n",
       "    .dataframe tbody tr th:only-of-type {\n",
       "        vertical-align: middle;\n",
       "    }\n",
       "\n",
       "    .dataframe tbody tr th {\n",
       "        vertical-align: top;\n",
       "    }\n",
       "\n",
       "    .dataframe thead th {\n",
       "        text-align: right;\n",
       "    }\n",
       "</style>\n",
       "<table border=\"1\" class=\"dataframe\">\n",
       "  <thead>\n",
       "    <tr style=\"text-align: right;\">\n",
       "      <th></th>\n",
       "      <th>age</th>\n",
       "      <th>sex</th>\n",
       "      <th>bmi</th>\n",
       "      <th>children</th>\n",
       "      <th>smoker</th>\n",
       "      <th>region</th>\n",
       "      <th>charges</th>\n",
       "    </tr>\n",
       "  </thead>\n",
       "  <tbody>\n",
       "    <tr>\n",
       "      <th>0</th>\n",
       "      <td>19</td>\n",
       "      <td>0</td>\n",
       "      <td>27.900</td>\n",
       "      <td>0</td>\n",
       "      <td>1</td>\n",
       "      <td>1</td>\n",
       "      <td>16884.92400</td>\n",
       "    </tr>\n",
       "    <tr>\n",
       "      <th>1</th>\n",
       "      <td>18</td>\n",
       "      <td>1</td>\n",
       "      <td>33.770</td>\n",
       "      <td>1</td>\n",
       "      <td>0</td>\n",
       "      <td>2</td>\n",
       "      <td>1725.55230</td>\n",
       "    </tr>\n",
       "    <tr>\n",
       "      <th>2</th>\n",
       "      <td>28</td>\n",
       "      <td>1</td>\n",
       "      <td>33.000</td>\n",
       "      <td>3</td>\n",
       "      <td>0</td>\n",
       "      <td>2</td>\n",
       "      <td>4449.46200</td>\n",
       "    </tr>\n",
       "    <tr>\n",
       "      <th>3</th>\n",
       "      <td>33</td>\n",
       "      <td>1</td>\n",
       "      <td>22.705</td>\n",
       "      <td>0</td>\n",
       "      <td>0</td>\n",
       "      <td>3</td>\n",
       "      <td>21984.47061</td>\n",
       "    </tr>\n",
       "    <tr>\n",
       "      <th>4</th>\n",
       "      <td>32</td>\n",
       "      <td>1</td>\n",
       "      <td>28.880</td>\n",
       "      <td>0</td>\n",
       "      <td>0</td>\n",
       "      <td>3</td>\n",
       "      <td>3866.85520</td>\n",
       "    </tr>\n",
       "  </tbody>\n",
       "</table>\n",
       "</div>"
      ],
      "text/plain": [
       "   age  sex     bmi  children  smoker  region      charges\n",
       "0   19    0  27.900         0       1       1  16884.92400\n",
       "1   18    1  33.770         1       0       2   1725.55230\n",
       "2   28    1  33.000         3       0       2   4449.46200\n",
       "3   33    1  22.705         0       0       3  21984.47061\n",
       "4   32    1  28.880         0       0       3   3866.85520"
      ]
     },
     "execution_count": 11,
     "metadata": {},
     "output_type": "execute_result"
    }
   ],
   "source": [
    "data.head()"
   ]
  },
  {
   "cell_type": "markdown",
   "id": "21fc1e08",
   "metadata": {
    "papermill": {
     "duration": 0.035139,
     "end_time": "2021-10-31T15:16:43.576747",
     "exception": false,
     "start_time": "2021-10-31T15:16:43.541608",
     "status": "completed"
    },
    "tags": []
   },
   "source": [
    "### 7. Store feature matrix in X and Response in vector y"
   ]
  },
  {
   "cell_type": "code",
   "execution_count": 12,
   "id": "9ba4a785",
   "metadata": {
    "execution": {
     "iopub.execute_input": "2021-10-31T15:16:43.654936Z",
     "iopub.status.busy": "2021-10-31T15:16:43.653851Z",
     "iopub.status.idle": "2021-10-31T15:16:43.659925Z",
     "shell.execute_reply": "2021-10-31T15:16:43.660466Z",
     "shell.execute_reply.started": "2021-10-31T15:15:14.785872Z"
    },
    "papermill": {
     "duration": 0.048364,
     "end_time": "2021-10-31T15:16:43.660680",
     "exception": false,
     "start_time": "2021-10-31T15:16:43.612316",
     "status": "completed"
    },
    "tags": []
   },
   "outputs": [],
   "source": [
    "X = data.drop(['charges'],axis=1)\n",
    "y = data['charges']"
   ]
  },
  {
   "cell_type": "markdown",
   "id": "cf260112",
   "metadata": {
    "papermill": {
     "duration": 0.035535,
     "end_time": "2021-10-31T15:16:43.731910",
     "exception": false,
     "start_time": "2021-10-31T15:16:43.696375",
     "status": "completed"
    },
    "tags": []
   },
   "source": [
    "### 8. Train/Test Split (80-20 Split)"
   ]
  },
  {
   "cell_type": "code",
   "execution_count": 13,
   "id": "ff30a3a5",
   "metadata": {
    "execution": {
     "iopub.execute_input": "2021-10-31T15:16:43.806719Z",
     "iopub.status.busy": "2021-10-31T15:16:43.806027Z",
     "iopub.status.idle": "2021-10-31T15:16:44.840689Z",
     "shell.execute_reply": "2021-10-31T15:16:44.840022Z",
     "shell.execute_reply.started": "2021-10-31T15:15:14.801132Z"
    },
    "papermill": {
     "duration": 1.073719,
     "end_time": "2021-10-31T15:16:44.840839",
     "exception": false,
     "start_time": "2021-10-31T15:16:43.767120",
     "status": "completed"
    },
    "tags": []
   },
   "outputs": [],
   "source": [
    "from sklearn.model_selection import train_test_split\n",
    "X_train,X_test,y_train,y_test=train_test_split(X,y,test_size=0.2,random_state=42)"
   ]
  },
  {
   "cell_type": "markdown",
   "id": "ad8c91a8",
   "metadata": {
    "papermill": {
     "duration": 0.034701,
     "end_time": "2021-10-31T15:16:44.911111",
     "exception": false,
     "start_time": "2021-10-31T15:16:44.876410",
     "status": "completed"
    },
    "tags": []
   },
   "source": [
    "### 9. Import the models"
   ]
  },
  {
   "cell_type": "code",
   "execution_count": 14,
   "id": "249c4d09",
   "metadata": {
    "execution": {
     "iopub.execute_input": "2021-10-31T15:16:44.988479Z",
     "iopub.status.busy": "2021-10-31T15:16:44.987658Z",
     "iopub.status.idle": "2021-10-31T15:16:45.335703Z",
     "shell.execute_reply": "2021-10-31T15:16:45.336228Z",
     "shell.execute_reply.started": "2021-10-31T15:15:15.165236Z"
    },
    "papermill": {
     "duration": 0.390199,
     "end_time": "2021-10-31T15:16:45.336399",
     "exception": false,
     "start_time": "2021-10-31T15:16:44.946200",
     "status": "completed"
    },
    "tags": []
   },
   "outputs": [],
   "source": [
    "from sklearn.linear_model import LinearRegression\n",
    "from sklearn.svm import SVR\n",
    "from sklearn.ensemble import RandomForestRegressor\n",
    "from sklearn.ensemble import GradientBoostingRegressor"
   ]
  },
  {
   "cell_type": "markdown",
   "id": "0b116dd2",
   "metadata": {
    "papermill": {
     "duration": 0.034928,
     "end_time": "2021-10-31T15:16:45.406776",
     "exception": false,
     "start_time": "2021-10-31T15:16:45.371848",
     "status": "completed"
    },
    "tags": []
   },
   "source": [
    "### 10. Model Training"
   ]
  },
  {
   "cell_type": "code",
   "execution_count": 15,
   "id": "2ecb02a3",
   "metadata": {
    "execution": {
     "iopub.execute_input": "2021-10-31T15:16:45.540124Z",
     "iopub.status.busy": "2021-10-31T15:16:45.539154Z",
     "iopub.status.idle": "2021-10-31T15:16:46.118168Z",
     "shell.execute_reply": "2021-10-31T15:16:46.118704Z",
     "shell.execute_reply.started": "2021-10-31T15:15:15.410667Z"
    },
    "papermill": {
     "duration": 0.618103,
     "end_time": "2021-10-31T15:16:46.118887",
     "exception": false,
     "start_time": "2021-10-31T15:16:45.500784",
     "status": "completed"
    },
    "tags": []
   },
   "outputs": [
    {
     "data": {
      "text/html": [
       "<style>#sk-container-id-1 {color: black;background-color: white;}#sk-container-id-1 pre{padding: 0;}#sk-container-id-1 div.sk-toggleable {background-color: white;}#sk-container-id-1 label.sk-toggleable__label {cursor: pointer;display: block;width: 100%;margin-bottom: 0;padding: 0.3em;box-sizing: border-box;text-align: center;}#sk-container-id-1 label.sk-toggleable__label-arrow:before {content: \"▸\";float: left;margin-right: 0.25em;color: #696969;}#sk-container-id-1 label.sk-toggleable__label-arrow:hover:before {color: black;}#sk-container-id-1 div.sk-estimator:hover label.sk-toggleable__label-arrow:before {color: black;}#sk-container-id-1 div.sk-toggleable__content {max-height: 0;max-width: 0;overflow: hidden;text-align: left;background-color: #f0f8ff;}#sk-container-id-1 div.sk-toggleable__content pre {margin: 0.2em;color: black;border-radius: 0.25em;background-color: #f0f8ff;}#sk-container-id-1 input.sk-toggleable__control:checked~div.sk-toggleable__content {max-height: 200px;max-width: 100%;overflow: auto;}#sk-container-id-1 input.sk-toggleable__control:checked~label.sk-toggleable__label-arrow:before {content: \"▾\";}#sk-container-id-1 div.sk-estimator input.sk-toggleable__control:checked~label.sk-toggleable__label {background-color: #d4ebff;}#sk-container-id-1 div.sk-label input.sk-toggleable__control:checked~label.sk-toggleable__label {background-color: #d4ebff;}#sk-container-id-1 input.sk-hidden--visually {border: 0;clip: rect(1px 1px 1px 1px);clip: rect(1px, 1px, 1px, 1px);height: 1px;margin: -1px;overflow: hidden;padding: 0;position: absolute;width: 1px;}#sk-container-id-1 div.sk-estimator {font-family: monospace;background-color: #f0f8ff;border: 1px dotted black;border-radius: 0.25em;box-sizing: border-box;margin-bottom: 0.5em;}#sk-container-id-1 div.sk-estimator:hover {background-color: #d4ebff;}#sk-container-id-1 div.sk-parallel-item::after {content: \"\";width: 100%;border-bottom: 1px solid gray;flex-grow: 1;}#sk-container-id-1 div.sk-label:hover label.sk-toggleable__label {background-color: #d4ebff;}#sk-container-id-1 div.sk-serial::before {content: \"\";position: absolute;border-left: 1px solid gray;box-sizing: border-box;top: 0;bottom: 0;left: 50%;z-index: 0;}#sk-container-id-1 div.sk-serial {display: flex;flex-direction: column;align-items: center;background-color: white;padding-right: 0.2em;padding-left: 0.2em;position: relative;}#sk-container-id-1 div.sk-item {position: relative;z-index: 1;}#sk-container-id-1 div.sk-parallel {display: flex;align-items: stretch;justify-content: center;background-color: white;position: relative;}#sk-container-id-1 div.sk-item::before, #sk-container-id-1 div.sk-parallel-item::before {content: \"\";position: absolute;border-left: 1px solid gray;box-sizing: border-box;top: 0;bottom: 0;left: 50%;z-index: -1;}#sk-container-id-1 div.sk-parallel-item {display: flex;flex-direction: column;z-index: 1;position: relative;background-color: white;}#sk-container-id-1 div.sk-parallel-item:first-child::after {align-self: flex-end;width: 50%;}#sk-container-id-1 div.sk-parallel-item:last-child::after {align-self: flex-start;width: 50%;}#sk-container-id-1 div.sk-parallel-item:only-child::after {width: 0;}#sk-container-id-1 div.sk-dashed-wrapped {border: 1px dashed gray;margin: 0 0.4em 0.5em 0.4em;box-sizing: border-box;padding-bottom: 0.4em;background-color: white;}#sk-container-id-1 div.sk-label label {font-family: monospace;font-weight: bold;display: inline-block;line-height: 1.2em;}#sk-container-id-1 div.sk-label-container {text-align: center;}#sk-container-id-1 div.sk-container {/* jupyter's `normalize.less` sets `[hidden] { display: none; }` but bootstrap.min.css set `[hidden] { display: none !important; }` so we also need the `!important` here to be able to override the default hidden behavior on the sphinx rendered scikit-learn.org. See: https://github.com/scikit-learn/scikit-learn/issues/21755 */display: inline-block !important;position: relative;}#sk-container-id-1 div.sk-text-repr-fallback {display: none;}</style><div id=\"sk-container-id-1\" class=\"sk-top-container\"><div class=\"sk-text-repr-fallback\"><pre>GradientBoostingRegressor()</pre><b>In a Jupyter environment, please rerun this cell to show the HTML representation or trust the notebook. <br />On GitHub, the HTML representation is unable to render, please try loading this page with nbviewer.org.</b></div><div class=\"sk-container\" hidden><div class=\"sk-item\"><div class=\"sk-estimator sk-toggleable\"><input class=\"sk-toggleable__control sk-hidden--visually\" id=\"sk-estimator-id-1\" type=\"checkbox\" checked><label for=\"sk-estimator-id-1\" class=\"sk-toggleable__label sk-toggleable__label-arrow\">GradientBoostingRegressor</label><div class=\"sk-toggleable__content\"><pre>GradientBoostingRegressor()</pre></div></div></div></div></div>"
      ],
      "text/plain": [
       "GradientBoostingRegressor()"
      ]
     },
     "execution_count": 15,
     "metadata": {},
     "output_type": "execute_result"
    }
   ],
   "source": [
    "lr = LinearRegression()\n",
    "lr.fit(X_train,y_train)\n",
    "svm = SVR()\n",
    "svm.fit(X_train,y_train)\n",
    "rf = RandomForestRegressor()\n",
    "rf.fit(X_train,y_train)\n",
    "gr = GradientBoostingRegressor()\n",
    "gr.fit(X_train,y_train)"
   ]
  },
  {
   "cell_type": "markdown",
   "id": "5fb39352",
   "metadata": {
    "papermill": {
     "duration": 0.036324,
     "end_time": "2021-10-31T15:16:46.190777",
     "exception": false,
     "start_time": "2021-10-31T15:16:46.154453",
     "status": "completed"
    },
    "tags": []
   },
   "source": [
    "### 11. Prediction on Test Data"
   ]
  },
  {
   "cell_type": "code",
   "execution_count": 16,
   "id": "dee78dbd",
   "metadata": {
    "execution": {
     "iopub.execute_input": "2021-10-31T15:16:46.268094Z",
     "iopub.status.busy": "2021-10-31T15:16:46.267004Z",
     "iopub.status.idle": "2021-10-31T15:16:46.305694Z",
     "shell.execute_reply": "2021-10-31T15:16:46.304869Z",
     "shell.execute_reply.started": "2021-10-31T15:15:15.937476Z"
    },
    "papermill": {
     "duration": 0.078986,
     "end_time": "2021-10-31T15:16:46.305871",
     "exception": false,
     "start_time": "2021-10-31T15:16:46.226885",
     "status": "completed"
    },
    "tags": []
   },
   "outputs": [],
   "source": [
    "y_pred1 = lr.predict(X_test)\n",
    "y_pred2 = svm.predict(X_test)\n",
    "y_pred3 = rf.predict(X_test)\n",
    "y_pred4 = gr.predict(X_test)\n",
    "\n",
    "df1 = pd.DataFrame({'Actual':y_test,'Lr':y_pred1,'svm':y_pred2,'rf':y_pred3,'gr':y_pred4})"
   ]
  },
  {
   "cell_type": "code",
   "execution_count": 17,
   "id": "372232fb",
   "metadata": {
    "execution": {
     "iopub.execute_input": "2021-10-31T15:16:46.382875Z",
     "iopub.status.busy": "2021-10-31T15:16:46.382146Z",
     "iopub.status.idle": "2021-10-31T15:16:46.395556Z",
     "shell.execute_reply": "2021-10-31T15:16:46.396189Z",
     "shell.execute_reply.started": "2021-10-31T15:15:15.977860Z"
    },
    "papermill": {
     "duration": 0.054039,
     "end_time": "2021-10-31T15:16:46.396389",
     "exception": false,
     "start_time": "2021-10-31T15:16:46.342350",
     "status": "completed"
    },
    "tags": []
   },
   "outputs": [
    {
     "data": {
      "text/html": [
       "<div>\n",
       "<style scoped>\n",
       "    .dataframe tbody tr th:only-of-type {\n",
       "        vertical-align: middle;\n",
       "    }\n",
       "\n",
       "    .dataframe tbody tr th {\n",
       "        vertical-align: top;\n",
       "    }\n",
       "\n",
       "    .dataframe thead th {\n",
       "        text-align: right;\n",
       "    }\n",
       "</style>\n",
       "<table border=\"1\" class=\"dataframe\">\n",
       "  <thead>\n",
       "    <tr style=\"text-align: right;\">\n",
       "      <th></th>\n",
       "      <th>Actual</th>\n",
       "      <th>Lr</th>\n",
       "      <th>svm</th>\n",
       "      <th>rf</th>\n",
       "      <th>gr</th>\n",
       "    </tr>\n",
       "  </thead>\n",
       "  <tbody>\n",
       "    <tr>\n",
       "      <th>764</th>\n",
       "      <td>9095.06825</td>\n",
       "      <td>8924.407244</td>\n",
       "      <td>9548.261584</td>\n",
       "      <td>10697.857749</td>\n",
       "      <td>11001.128629</td>\n",
       "    </tr>\n",
       "    <tr>\n",
       "      <th>887</th>\n",
       "      <td>5272.17580</td>\n",
       "      <td>7116.295018</td>\n",
       "      <td>9492.515425</td>\n",
       "      <td>4927.521804</td>\n",
       "      <td>5840.174656</td>\n",
       "    </tr>\n",
       "    <tr>\n",
       "      <th>890</th>\n",
       "      <td>29330.98315</td>\n",
       "      <td>36909.013521</td>\n",
       "      <td>9648.758701</td>\n",
       "      <td>28460.391130</td>\n",
       "      <td>28001.980112</td>\n",
       "    </tr>\n",
       "    <tr>\n",
       "      <th>1293</th>\n",
       "      <td>9301.89355</td>\n",
       "      <td>9507.874691</td>\n",
       "      <td>9555.044136</td>\n",
       "      <td>9982.004889</td>\n",
       "      <td>9745.291602</td>\n",
       "    </tr>\n",
       "    <tr>\n",
       "      <th>259</th>\n",
       "      <td>33750.29180</td>\n",
       "      <td>27013.350008</td>\n",
       "      <td>9420.421978</td>\n",
       "      <td>34546.058268</td>\n",
       "      <td>33639.100981</td>\n",
       "    </tr>\n",
       "    <tr>\n",
       "      <th>...</th>\n",
       "      <td>...</td>\n",
       "      <td>...</td>\n",
       "      <td>...</td>\n",
       "      <td>...</td>\n",
       "      <td>...</td>\n",
       "    </tr>\n",
       "    <tr>\n",
       "      <th>109</th>\n",
       "      <td>47055.53210</td>\n",
       "      <td>39116.968669</td>\n",
       "      <td>9648.902852</td>\n",
       "      <td>47266.595455</td>\n",
       "      <td>45431.423211</td>\n",
       "    </tr>\n",
       "    <tr>\n",
       "      <th>575</th>\n",
       "      <td>12222.89830</td>\n",
       "      <td>11814.555568</td>\n",
       "      <td>9625.431547</td>\n",
       "      <td>12232.202309</td>\n",
       "      <td>12465.025294</td>\n",
       "    </tr>\n",
       "    <tr>\n",
       "      <th>535</th>\n",
       "      <td>6067.12675</td>\n",
       "      <td>7638.107736</td>\n",
       "      <td>9504.168517</td>\n",
       "      <td>6326.511973</td>\n",
       "      <td>6974.336525</td>\n",
       "    </tr>\n",
       "    <tr>\n",
       "      <th>543</th>\n",
       "      <td>63770.42801</td>\n",
       "      <td>40959.081722</td>\n",
       "      <td>9605.004594</td>\n",
       "      <td>46395.306481</td>\n",
       "      <td>47862.047791</td>\n",
       "    </tr>\n",
       "    <tr>\n",
       "      <th>846</th>\n",
       "      <td>9872.70100</td>\n",
       "      <td>12258.228529</td>\n",
       "      <td>9590.987268</td>\n",
       "      <td>9772.832199</td>\n",
       "      <td>10289.655388</td>\n",
       "    </tr>\n",
       "  </tbody>\n",
       "</table>\n",
       "<p>268 rows × 5 columns</p>\n",
       "</div>"
      ],
      "text/plain": [
       "           Actual            Lr          svm            rf            gr\n",
       "764    9095.06825   8924.407244  9548.261584  10697.857749  11001.128629\n",
       "887    5272.17580   7116.295018  9492.515425   4927.521804   5840.174656\n",
       "890   29330.98315  36909.013521  9648.758701  28460.391130  28001.980112\n",
       "1293   9301.89355   9507.874691  9555.044136   9982.004889   9745.291602\n",
       "259   33750.29180  27013.350008  9420.421978  34546.058268  33639.100981\n",
       "...           ...           ...          ...           ...           ...\n",
       "109   47055.53210  39116.968669  9648.902852  47266.595455  45431.423211\n",
       "575   12222.89830  11814.555568  9625.431547  12232.202309  12465.025294\n",
       "535    6067.12675   7638.107736  9504.168517   6326.511973   6974.336525\n",
       "543   63770.42801  40959.081722  9605.004594  46395.306481  47862.047791\n",
       "846    9872.70100  12258.228529  9590.987268   9772.832199  10289.655388\n",
       "\n",
       "[268 rows x 5 columns]"
      ]
     },
     "execution_count": 17,
     "metadata": {},
     "output_type": "execute_result"
    }
   ],
   "source": [
    "df1"
   ]
  },
  {
   "cell_type": "markdown",
   "id": "03bd798a",
   "metadata": {
    "papermill": {
     "duration": 0.036391,
     "end_time": "2021-10-31T15:16:46.469436",
     "exception": false,
     "start_time": "2021-10-31T15:16:46.433045",
     "status": "completed"
    },
    "tags": []
   },
   "source": [
    "### 12. Compare Performance Visually "
   ]
  },
  {
   "cell_type": "code",
   "execution_count": 19,
   "id": "f7d8fbca",
   "metadata": {
    "execution": {
     "iopub.execute_input": "2021-10-31T15:16:46.547727Z",
     "iopub.status.busy": "2021-10-31T15:16:46.547028Z",
     "iopub.status.idle": "2021-10-31T15:16:46.549743Z",
     "shell.execute_reply": "2021-10-31T15:16:46.550353Z",
     "shell.execute_reply.started": "2021-10-31T15:15:15.994998Z"
    },
    "papermill": {
     "duration": 0.04362,
     "end_time": "2021-10-31T15:16:46.550561",
     "exception": false,
     "start_time": "2021-10-31T15:16:46.506941",
     "status": "completed"
    },
    "tags": []
   },
   "outputs": [],
   "source": [
    "import matplotlib.pyplot as plt"
   ]
  },
  {
   "cell_type": "code",
   "execution_count": 20,
   "id": "c1ee29de",
   "metadata": {
    "execution": {
     "iopub.execute_input": "2021-10-31T15:16:46.627317Z",
     "iopub.status.busy": "2021-10-31T15:16:46.626609Z",
     "iopub.status.idle": "2021-10-31T15:16:47.433564Z",
     "shell.execute_reply": "2021-10-31T15:16:47.434080Z",
     "shell.execute_reply.started": "2021-10-31T15:15:16.006557Z"
    },
    "papermill": {
     "duration": 0.846984,
     "end_time": "2021-10-31T15:16:47.434275",
     "exception": false,
     "start_time": "2021-10-31T15:16:46.587291",
     "status": "completed"
    },
    "tags": []
   },
   "outputs": [
    {
     "data": {
      "text/plain": [
       "<matplotlib.legend.Legend at 0x21f93847df0>"
      ]
     },
     "execution_count": 20,
     "metadata": {},
     "output_type": "execute_result"
    },
    {
     "data": {
      "image/png": "[encoded data removed]",
      "text/plain": [
       "<Figure size 640x480 with 4 Axes>"
      ]
     },
     "metadata": {},
     "output_type": "display_data"
    }
   ],
   "source": [
    "plt.subplot(221)\n",
    "plt.plot(df1['Actual'].iloc[0:11],label='Actual')\n",
    "plt.plot(df1['Lr'].iloc[0:11],label=\"Lr\")\n",
    "plt.legend()\n",
    "\n",
    "plt.subplot(222)\n",
    "plt.plot(df1['Actual'].iloc[0:11],label='Actual')\n",
    "plt.plot(df1['svm'].iloc[0:11],label=\"svr\")\n",
    "plt.legend()\n",
    "\n",
    "plt.subplot(223)\n",
    "plt.plot(df1['Actual'].iloc[0:11],label='Actual')\n",
    "plt.plot(df1['rf'].iloc[0:11],label=\"rf\")\n",
    "plt.legend()\n",
    "\n",
    "plt.subplot(224)\n",
    "plt.plot(df1['Actual'].iloc[0:11],label='Actual')\n",
    "plt.plot(df1['gr'].iloc[0:11],label=\"gr\")\n",
    "\n",
    "plt.tight_layout()\n",
    "\n",
    "plt.legend()"
   ]
  },
  {
   "cell_type": "markdown",
   "id": "b6553792",
   "metadata": {
    "papermill": {
     "duration": 0.039642,
     "end_time": "2021-10-31T15:16:47.514014",
     "exception": false,
     "start_time": "2021-10-31T15:16:47.474372",
     "status": "completed"
    },
    "tags": []
   },
   "source": [
    "### 13. Evaluating the Algorithm"
   ]
  },
  {
   "cell_type": "code",
   "execution_count": 21,
   "id": "3b7435ff",
   "metadata": {
    "execution": {
     "iopub.execute_input": "2021-10-31T15:16:47.596572Z",
     "iopub.status.busy": "2021-10-31T15:16:47.595734Z",
     "iopub.status.idle": "2021-10-31T15:16:47.597435Z",
     "shell.execute_reply": "2021-10-31T15:16:47.597973Z",
     "shell.execute_reply.started": "2021-10-31T15:15:16.626391Z"
    },
    "papermill": {
     "duration": 0.045411,
     "end_time": "2021-10-31T15:16:47.598149",
     "exception": false,
     "start_time": "2021-10-31T15:16:47.552738",
     "status": "completed"
    },
    "tags": []
   },
   "outputs": [],
   "source": [
    "from sklearn import metrics"
   ]
  },
  {
   "cell_type": "code",
   "execution_count": 22,
   "id": "1571d25f",
   "metadata": {
    "execution": {
     "iopub.execute_input": "2021-10-31T15:16:47.682040Z",
     "iopub.status.busy": "2021-10-31T15:16:47.681256Z",
     "iopub.status.idle": "2021-10-31T15:16:47.687431Z",
     "shell.execute_reply": "2021-10-31T15:16:47.686872Z",
     "shell.execute_reply.started": "2021-10-31T15:15:16.633388Z"
    },
    "papermill": {
     "duration": 0.050472,
     "end_time": "2021-10-31T15:16:47.687609",
     "exception": false,
     "start_time": "2021-10-31T15:16:47.637137",
     "status": "completed"
    },
    "tags": []
   },
   "outputs": [],
   "source": [
    "score1 = metrics.r2_score(y_test,y_pred1)\n",
    "score2 = metrics.r2_score(y_test,y_pred2)\n",
    "score3 = metrics.r2_score(y_test,y_pred3)\n",
    "score4 = metrics.r2_score(y_test,y_pred4)"
   ]
  },
  {
   "cell_type": "code",
   "execution_count": 23,
   "id": "cc002f85",
   "metadata": {
    "execution": {
     "iopub.execute_input": "2021-10-31T15:16:47.771373Z",
     "iopub.status.busy": "2021-10-31T15:16:47.770720Z",
     "iopub.status.idle": "2021-10-31T15:16:47.773928Z",
     "shell.execute_reply": "2021-10-31T15:16:47.773363Z",
     "shell.execute_reply.started": "2021-10-31T15:15:16.650456Z"
    },
    "papermill": {
     "duration": 0.047289,
     "end_time": "2021-10-31T15:16:47.774066",
     "exception": false,
     "start_time": "2021-10-31T15:16:47.726777",
     "status": "completed"
    },
    "tags": []
   },
   "outputs": [
    {
     "name": "stdout",
     "output_type": "stream",
     "text": [
      "0.7833463107364539 -0.07229762787861826 0.8658267802880031 0.8779726251291786\n"
     ]
    }
   ],
   "source": [
    "print(score1,score2,score3,score4)"
   ]
  },
  {
   "cell_type": "code",
   "execution_count": 24,
   "id": "a7c07788",
   "metadata": {
    "execution": {
     "iopub.execute_input": "2021-10-31T15:16:47.861781Z",
     "iopub.status.busy": "2021-10-31T15:16:47.860898Z",
     "iopub.status.idle": "2021-10-31T15:16:47.864058Z",
     "shell.execute_reply": "2021-10-31T15:16:47.863387Z",
     "shell.execute_reply.started": "2021-10-31T15:15:16.658106Z"
    },
    "papermill": {
     "duration": 0.050385,
     "end_time": "2021-10-31T15:16:47.864196",
     "exception": false,
     "start_time": "2021-10-31T15:16:47.813811",
     "status": "completed"
    },
    "tags": []
   },
   "outputs": [],
   "source": [
    "s1 = metrics.mean_absolute_error(y_test,y_pred1)\n",
    "s2 = metrics.mean_absolute_error(y_test,y_pred2)\n",
    "s3 = metrics.mean_absolute_error(y_test,y_pred3)\n",
    "s4 = metrics.mean_absolute_error(y_test,y_pred4)"
   ]
  },
  {
   "cell_type": "code",
   "execution_count": 25,
   "id": "c9a52141",
   "metadata": {
    "execution": {
     "iopub.execute_input": "2021-10-31T15:16:47.949316Z",
     "iopub.status.busy": "2021-10-31T15:16:47.948408Z",
     "iopub.status.idle": "2021-10-31T15:16:47.953730Z",
     "shell.execute_reply": "2021-10-31T15:16:47.952960Z",
     "shell.execute_reply.started": "2021-10-31T15:15:16.672327Z"
    },
    "papermill": {
     "duration": 0.050283,
     "end_time": "2021-10-31T15:16:47.953915",
     "exception": false,
     "start_time": "2021-10-31T15:16:47.903632",
     "status": "completed"
    },
    "tags": []
   },
   "outputs": [
    {
     "name": "stdout",
     "output_type": "stream",
     "text": [
      "4186.508898366434 8592.428727899724 2469.001813564459 2447.9515580545844\n"
     ]
    }
   ],
   "source": [
    "print(s1,s2,s3,s4)"
   ]
  },
  {
   "cell_type": "markdown",
   "id": "d3c47351",
   "metadata": {
    "papermill": {
     "duration": 0.039385,
     "end_time": "2021-10-31T15:16:48.034621",
     "exception": false,
     "start_time": "2021-10-31T15:16:47.995236",
     "status": "completed"
    },
    "tags": []
   },
   "source": [
    "### 14. Predict Charges For New Customer"
   ]
  },
  {
   "cell_type": "code",
   "execution_count": 26,
   "id": "f7e40385",
   "metadata": {
    "execution": {
     "iopub.execute_input": "2021-10-31T15:16:48.119905Z",
     "iopub.status.busy": "2021-10-31T15:16:48.119251Z",
     "iopub.status.idle": "2021-10-31T15:16:48.121989Z",
     "shell.execute_reply": "2021-10-31T15:16:48.122488Z",
     "shell.execute_reply.started": "2021-10-31T15:15:16.681923Z"
    },
    "papermill": {
     "duration": 0.047856,
     "end_time": "2021-10-31T15:16:48.122751",
     "exception": false,
     "start_time": "2021-10-31T15:16:48.074895",
     "status": "completed"
    },
    "tags": []
   },
   "outputs": [],
   "source": [
    "data = {'age' : 40,\n",
    "        'sex' : 1,\n",
    "        'bmi' : 40.30,\n",
    "        'children' : 4,\n",
    "        'smoker' : 1,\n",
    "        'region' : 2}"
   ]
  },
  {
   "cell_type": "code",
   "execution_count": 27,
   "id": "4be81eeb",
   "metadata": {
    "execution": {
     "iopub.execute_input": "2021-10-31T15:16:48.217849Z",
     "iopub.status.busy": "2021-10-31T15:16:48.216903Z",
     "iopub.status.idle": "2021-10-31T15:16:48.220581Z",
     "shell.execute_reply": "2021-10-31T15:16:48.221107Z",
     "shell.execute_reply.started": "2021-10-31T15:15:16.693636Z"
    },
    "papermill": {
     "duration": 0.058439,
     "end_time": "2021-10-31T15:16:48.221299",
     "exception": false,
     "start_time": "2021-10-31T15:16:48.162860",
     "status": "completed"
    },
    "tags": []
   },
   "outputs": [
    {
     "data": {
      "text/html": [
       "<div>\n",
       "<style scoped>\n",
       "    .dataframe tbody tr th:only-of-type {\n",
       "        vertical-align: middle;\n",
       "    }\n",
       "\n",
       "    .dataframe tbody tr th {\n",
       "        vertical-align: top;\n",
       "    }\n",
       "\n",
       "    .dataframe thead th {\n",
       "        text-align: right;\n",
       "    }\n",
       "</style>\n",
       "<table border=\"1\" class=\"dataframe\">\n",
       "  <thead>\n",
       "    <tr style=\"text-align: right;\">\n",
       "      <th></th>\n",
       "      <th>age</th>\n",
       "      <th>sex</th>\n",
       "      <th>bmi</th>\n",
       "      <th>children</th>\n",
       "      <th>smoker</th>\n",
       "      <th>region</th>\n",
       "    </tr>\n",
       "  </thead>\n",
       "  <tbody>\n",
       "    <tr>\n",
       "      <th>0</th>\n",
       "      <td>40</td>\n",
       "      <td>1</td>\n",
       "      <td>40.3</td>\n",
       "      <td>4</td>\n",
       "      <td>1</td>\n",
       "      <td>2</td>\n",
       "    </tr>\n",
       "  </tbody>\n",
       "</table>\n",
       "</div>"
      ],
      "text/plain": [
       "   age  sex   bmi  children  smoker  region\n",
       "0   40    1  40.3         4       1       2"
      ]
     },
     "execution_count": 27,
     "metadata": {},
     "output_type": "execute_result"
    }
   ],
   "source": [
    "df = pd.DataFrame(data,index=[0])\n",
    "df"
   ]
  },
  {
   "cell_type": "code",
   "execution_count": 27,
   "id": "df11c99a",
   "metadata": {
    "execution": {
     "iopub.execute_input": "2021-10-31T15:16:48.312464Z",
     "iopub.status.busy": "2021-10-31T15:16:48.311656Z",
     "iopub.status.idle": "2021-10-31T15:16:48.315021Z",
     "shell.execute_reply": "2021-10-31T15:16:48.315553Z",
     "shell.execute_reply.started": "2021-10-31T15:15:16.716483Z"
    },
    "papermill": {
     "duration": 0.05411,
     "end_time": "2021-10-31T15:16:48.315756",
     "exception": false,
     "start_time": "2021-10-31T15:16:48.261646",
     "status": "completed"
    },
    "tags": []
   },
   "outputs": [
    {
     "name": "stdout",
     "output_type": "stream",
     "text": [
      "Medical Insurance cost for New Customer is :  44757.2485385127\n"
     ]
    }
   ],
   "source": [
    "new_pred = gr.predict(df)\n",
    "print(\"Medical Insurance cost for New Customer is : \",new_pred[0])"
   ]
  }
 ],
 "metadata": {
  "kernelspec": {
   "display_name": "Python 3 (ipykernel)",
   "language": "python",
   "name": "python3"
  },
  "language_info": {
   "codemirror_mode": {
    "name": "ipython",
    "version": 3
   },
   "file_extension": ".py",
   "mimetype": "text/x-python",
   "name": "python",
   "nbconvert_exporter": "python",
   "pygments_lexer": "ipython3",
   "version": "3.10.9"
  },
  "papermill": {
   "default_parameters": {},
   "duration": 17.466367,
   "end_time": "2021-10-31T15:16:49.923395",
   "environment_variables": {},
   "exception": null,
   "input_path": "__notebook__.ipynb",
   "output_path": "__notebook__.ipynb",
   "parameters": {},
   "start_time": "2021-10-31T15:16:32.457028",
   "version": "2.3.3"
  }
 },
 "nbformat": 4,
 "nbformat_minor": 5
}
